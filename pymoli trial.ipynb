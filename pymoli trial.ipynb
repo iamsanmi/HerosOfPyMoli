{
 "cells": [
  {
   "cell_type": "code",
   "execution_count": 4,
   "metadata": {},
   "outputs": [],
   "source": [
    "# Dependencies and Setup\n",
    "import pandas as pd\n",
    "import numpy as np"
   ]
  },
  {
   "cell_type": "code",
   "execution_count": 5,
   "metadata": {},
   "outputs": [],
   "source": [
    "# Raw data file\n",
    "file_to_load = r\"C:\\Users\\ibilo\\Desktop\\homework\\pandas homework\\purchase_data.csv\""
   ]
  },
  {
   "cell_type": "code",
   "execution_count": 78,
   "metadata": {},
   "outputs": [],
   "source": [
    "#read purchasing file and store into pandas data frame\n",
    "purchase_data = pd.read_csv(file_to_load)"
   ]
  },
  {
   "cell_type": "code",
   "execution_count": 8,
   "metadata": {},
   "outputs": [
    {
     "data": {
      "text/html": [
       "<div>\n",
       "<style scoped>\n",
       "    .dataframe tbody tr th:only-of-type {\n",
       "        vertical-align: middle;\n",
       "    }\n",
       "\n",
       "    .dataframe tbody tr th {\n",
       "        vertical-align: top;\n",
       "    }\n",
       "\n",
       "    .dataframe thead th {\n",
       "        text-align: right;\n",
       "    }\n",
       "</style>\n",
       "<table border=\"1\" class=\"dataframe\">\n",
       "  <thead>\n",
       "    <tr style=\"text-align: right;\">\n",
       "      <th></th>\n",
       "      <th>Purchase ID</th>\n",
       "      <th>SN</th>\n",
       "      <th>Age</th>\n",
       "      <th>Gender</th>\n",
       "      <th>Item ID</th>\n",
       "      <th>Item Name</th>\n",
       "      <th>Price</th>\n",
       "    </tr>\n",
       "  </thead>\n",
       "  <tbody>\n",
       "    <tr>\n",
       "      <th>0</th>\n",
       "      <td>0</td>\n",
       "      <td>Lisim78</td>\n",
       "      <td>20</td>\n",
       "      <td>Male</td>\n",
       "      <td>108</td>\n",
       "      <td>Extraction, Quickblade Of Trembling Hands</td>\n",
       "      <td>3.53</td>\n",
       "    </tr>\n",
       "    <tr>\n",
       "      <th>1</th>\n",
       "      <td>1</td>\n",
       "      <td>Lisovynya38</td>\n",
       "      <td>40</td>\n",
       "      <td>Male</td>\n",
       "      <td>143</td>\n",
       "      <td>Frenzied Scimitar</td>\n",
       "      <td>1.56</td>\n",
       "    </tr>\n",
       "    <tr>\n",
       "      <th>2</th>\n",
       "      <td>2</td>\n",
       "      <td>Ithergue48</td>\n",
       "      <td>24</td>\n",
       "      <td>Male</td>\n",
       "      <td>92</td>\n",
       "      <td>Final Critic</td>\n",
       "      <td>4.88</td>\n",
       "    </tr>\n",
       "    <tr>\n",
       "      <th>3</th>\n",
       "      <td>3</td>\n",
       "      <td>Chamassasya86</td>\n",
       "      <td>24</td>\n",
       "      <td>Male</td>\n",
       "      <td>100</td>\n",
       "      <td>Blindscythe</td>\n",
       "      <td>3.27</td>\n",
       "    </tr>\n",
       "    <tr>\n",
       "      <th>4</th>\n",
       "      <td>4</td>\n",
       "      <td>Iskosia90</td>\n",
       "      <td>23</td>\n",
       "      <td>Male</td>\n",
       "      <td>131</td>\n",
       "      <td>Fury</td>\n",
       "      <td>1.44</td>\n",
       "    </tr>\n",
       "  </tbody>\n",
       "</table>\n",
       "</div>"
      ],
      "text/plain": [
       "   Purchase ID             SN  Age Gender  Item ID  \\\n",
       "0            0        Lisim78   20   Male      108   \n",
       "1            1    Lisovynya38   40   Male      143   \n",
       "2            2     Ithergue48   24   Male       92   \n",
       "3            3  Chamassasya86   24   Male      100   \n",
       "4            4      Iskosia90   23   Male      131   \n",
       "\n",
       "                                   Item Name  Price  \n",
       "0  Extraction, Quickblade Of Trembling Hands   3.53  \n",
       "1                          Frenzied Scimitar   1.56  \n",
       "2                               Final Critic   4.88  \n",
       "3                                Blindscythe   3.27  \n",
       "4                                       Fury   1.44  "
      ]
     },
     "execution_count": 8,
     "metadata": {},
     "output_type": "execute_result"
    }
   ],
   "source": [
    "purchase_data.head()"
   ]
  },
  {
   "cell_type": "code",
   "execution_count": 9,
   "metadata": {},
   "outputs": [
    {
     "data": {
      "text/html": [
       "<div>\n",
       "<style scoped>\n",
       "    .dataframe tbody tr th:only-of-type {\n",
       "        vertical-align: middle;\n",
       "    }\n",
       "\n",
       "    .dataframe tbody tr th {\n",
       "        vertical-align: top;\n",
       "    }\n",
       "\n",
       "    .dataframe thead th {\n",
       "        text-align: right;\n",
       "    }\n",
       "</style>\n",
       "<table border=\"1\" class=\"dataframe\">\n",
       "  <thead>\n",
       "    <tr style=\"text-align: right;\">\n",
       "      <th></th>\n",
       "      <th>Purchase ID</th>\n",
       "      <th>Age</th>\n",
       "      <th>Item ID</th>\n",
       "      <th>Price</th>\n",
       "    </tr>\n",
       "  </thead>\n",
       "  <tbody>\n",
       "    <tr>\n",
       "      <th>count</th>\n",
       "      <td>780.000000</td>\n",
       "      <td>780.000000</td>\n",
       "      <td>780.000000</td>\n",
       "      <td>780.000000</td>\n",
       "    </tr>\n",
       "    <tr>\n",
       "      <th>mean</th>\n",
       "      <td>389.500000</td>\n",
       "      <td>22.714103</td>\n",
       "      <td>92.114103</td>\n",
       "      <td>3.050987</td>\n",
       "    </tr>\n",
       "    <tr>\n",
       "      <th>std</th>\n",
       "      <td>225.310896</td>\n",
       "      <td>6.659444</td>\n",
       "      <td>52.775943</td>\n",
       "      <td>1.169549</td>\n",
       "    </tr>\n",
       "    <tr>\n",
       "      <th>min</th>\n",
       "      <td>0.000000</td>\n",
       "      <td>7.000000</td>\n",
       "      <td>0.000000</td>\n",
       "      <td>1.000000</td>\n",
       "    </tr>\n",
       "    <tr>\n",
       "      <th>25%</th>\n",
       "      <td>194.750000</td>\n",
       "      <td>20.000000</td>\n",
       "      <td>48.000000</td>\n",
       "      <td>1.980000</td>\n",
       "    </tr>\n",
       "    <tr>\n",
       "      <th>50%</th>\n",
       "      <td>389.500000</td>\n",
       "      <td>22.000000</td>\n",
       "      <td>93.000000</td>\n",
       "      <td>3.150000</td>\n",
       "    </tr>\n",
       "    <tr>\n",
       "      <th>75%</th>\n",
       "      <td>584.250000</td>\n",
       "      <td>25.000000</td>\n",
       "      <td>139.000000</td>\n",
       "      <td>4.080000</td>\n",
       "    </tr>\n",
       "    <tr>\n",
       "      <th>max</th>\n",
       "      <td>779.000000</td>\n",
       "      <td>45.000000</td>\n",
       "      <td>183.000000</td>\n",
       "      <td>4.990000</td>\n",
       "    </tr>\n",
       "  </tbody>\n",
       "</table>\n",
       "</div>"
      ],
      "text/plain": [
       "       Purchase ID         Age     Item ID       Price\n",
       "count   780.000000  780.000000  780.000000  780.000000\n",
       "mean    389.500000   22.714103   92.114103    3.050987\n",
       "std     225.310896    6.659444   52.775943    1.169549\n",
       "min       0.000000    7.000000    0.000000    1.000000\n",
       "25%     194.750000   20.000000   48.000000    1.980000\n",
       "50%     389.500000   22.000000   93.000000    3.150000\n",
       "75%     584.250000   25.000000  139.000000    4.080000\n",
       "max     779.000000   45.000000  183.000000    4.990000"
      ]
     },
     "execution_count": 9,
     "metadata": {},
     "output_type": "execute_result"
    }
   ],
   "source": [
    "purchase_data.describe()"
   ]
  },
  {
   "cell_type": "code",
   "execution_count": 61,
   "metadata": {},
   "outputs": [
    {
     "data": {
      "text/plain": [
       "Index(['Purchase ID', 'SN', 'Age', 'Gender', 'Item ID', 'Item Name', 'Price'], dtype='object')"
      ]
     },
     "execution_count": 61,
     "metadata": {},
     "output_type": "execute_result"
    }
   ],
   "source": [
    "purchase_data.columns"
   ]
  },
  {
   "cell_type": "code",
   "execution_count": 149,
   "metadata": {},
   "outputs": [
    {
     "data": {
      "text/plain": [
       "576"
      ]
     },
     "execution_count": 149,
     "metadata": {},
     "output_type": "execute_result"
    }
   ],
   "source": [
    "total_players = purchase_data[\"SN\"].nunique()\n",
    "total_players\n",
    "#total_players_df = pd.DataFrame({\n",
    "#    \"Total Players\": \"total_players\"\n",
    "#})"
   ]
  },
  {
   "cell_type": "code",
   "execution_count": 28,
   "metadata": {},
   "outputs": [
    {
     "data": {
      "text/plain": [
       "183"
      ]
     },
     "execution_count": 28,
     "metadata": {},
     "output_type": "execute_result"
    }
   ],
   "source": [
    "#total players\n",
    "num_unique_items = purchase_data[\"Item ID\"].nunique()\n",
    "num_unique_items"
   ]
  },
  {
   "cell_type": "code",
   "execution_count": 17,
   "metadata": {},
   "outputs": [
    {
     "data": {
      "text/plain": [
       "3.050987179487176"
      ]
     },
     "execution_count": 17,
     "metadata": {},
     "output_type": "execute_result"
    }
   ],
   "source": [
    "avg_price = purchase_data[\"Price\"].mean()\n",
    "avg_price"
   ]
  },
  {
   "cell_type": "code",
   "execution_count": 19,
   "metadata": {},
   "outputs": [
    {
     "data": {
      "text/plain": [
       "780"
      ]
     },
     "execution_count": 19,
     "metadata": {},
     "output_type": "execute_result"
    }
   ],
   "source": [
    "#number of purchase\n",
    "num_purchase = purchase_data[\"Purchase ID\"].count()\n",
    "num_purchase"
   ]
  },
  {
   "cell_type": "code",
   "execution_count": 20,
   "metadata": {},
   "outputs": [
    {
     "data": {
      "text/plain": [
       "2379.77"
      ]
     },
     "execution_count": 20,
     "metadata": {},
     "output_type": "execute_result"
    }
   ],
   "source": [
    "#total revenue\n",
    "total_purchase = purchase_data[\"Price\"].sum()\n",
    "total_purchase"
   ]
  },
  {
   "cell_type": "code",
   "execution_count": 29,
   "metadata": {},
   "outputs": [
    {
     "data": {
      "text/html": [
       "<div>\n",
       "<style scoped>\n",
       "    .dataframe tbody tr th:only-of-type {\n",
       "        vertical-align: middle;\n",
       "    }\n",
       "\n",
       "    .dataframe tbody tr th {\n",
       "        vertical-align: top;\n",
       "    }\n",
       "\n",
       "    .dataframe thead th {\n",
       "        text-align: right;\n",
       "    }\n",
       "</style>\n",
       "<table border=\"1\" class=\"dataframe\">\n",
       "  <thead>\n",
       "    <tr style=\"text-align: right;\">\n",
       "      <th></th>\n",
       "      <th>Number of Unique Items</th>\n",
       "      <th>Average Price</th>\n",
       "      <th>Number of Purchases</th>\n",
       "      <th>Total Revenue</th>\n",
       "    </tr>\n",
       "  </thead>\n",
       "  <tbody>\n",
       "    <tr>\n",
       "      <th>0</th>\n",
       "      <td>183</td>\n",
       "      <td>$3.05</td>\n",
       "      <td>780</td>\n",
       "      <td>$2,379.77</td>\n",
       "    </tr>\n",
       "  </tbody>\n",
       "</table>\n",
       "</div>"
      ],
      "text/plain": [
       "   Number of Unique Items Average Price  Number of Purchases Total Revenue\n",
       "0                     183         $3.05                  780     $2,379.77"
      ]
     },
     "execution_count": 29,
     "metadata": {},
     "output_type": "execute_result"
    }
   ],
   "source": [
    "#purchase analysis\n",
    "purchase_analysis_df = pd.DataFrame({\n",
    "    \"Number of Unique Items\": [num_unique_items],\n",
    "    \"Average Price\": [avg_price],\n",
    "    \"Number of Purchases\": [num_purchase],\n",
    "    \"Total Revenue\": [total_purchase],\n",
    "})\n",
    "purchase_analysis_df[\"Average Price\"] = purchase_analysis_df[\"Average Price\"].map(\"${:,.2f}\".format)\n",
    "purchase_analysis_df[\"Total Revenue\"] = purchase_analysis_df[\"Total Revenue\"].map(\"${:,.2f}\".format)\n",
    "purchase_analysis_df"
   ]
  },
  {
   "cell_type": "code",
   "execution_count": 30,
   "metadata": {},
   "outputs": [],
   "source": [
    "#organized_df = purchase_analysis_df[[\"Number of Unique Items\", \"Average Price\", \"Number of Purchases\", \"Total Revenue\"]]\n"
   ]
  },
  {
   "cell_type": "code",
   "execution_count": 31,
   "metadata": {},
   "outputs": [
    {
     "data": {
      "text/plain": [
       "0                       Male\n",
       "1                       Male\n",
       "2                       Male\n",
       "3                       Male\n",
       "4                       Male\n",
       "5                       Male\n",
       "6                       Male\n",
       "7                       Male\n",
       "8                       Male\n",
       "9      Other / Non-Disclosed\n",
       "10                      Male\n",
       "11                      Male\n",
       "12                      Male\n",
       "13                      Male\n",
       "14                      Male\n",
       "15                    Female\n",
       "16                      Male\n",
       "17                      Male\n",
       "18                    Female\n",
       "19                      Male\n",
       "20                      Male\n",
       "21                      Male\n",
       "22     Other / Non-Disclosed\n",
       "23                      Male\n",
       "24                      Male\n",
       "25                      Male\n",
       "26                      Male\n",
       "27                      Male\n",
       "28                      Male\n",
       "29                      Male\n",
       "               ...          \n",
       "750                     Male\n",
       "751                     Male\n",
       "752                     Male\n",
       "753                     Male\n",
       "754                   Female\n",
       "755                     Male\n",
       "756                     Male\n",
       "757                     Male\n",
       "758                     Male\n",
       "759                     Male\n",
       "760                     Male\n",
       "761                     Male\n",
       "762                     Male\n",
       "763                     Male\n",
       "764                     Male\n",
       "765                     Male\n",
       "766                     Male\n",
       "767                   Female\n",
       "768                     Male\n",
       "769                     Male\n",
       "770                     Male\n",
       "771                     Male\n",
       "772                     Male\n",
       "773                     Male\n",
       "774                     Male\n",
       "775                   Female\n",
       "776                     Male\n",
       "777                     Male\n",
       "778                     Male\n",
       "779                     Male\n",
       "Name: Gender, Length: 780, dtype: object"
      ]
     },
     "execution_count": 31,
     "metadata": {},
     "output_type": "execute_result"
    }
   ],
   "source": [
    "#gender demographics\n",
    "gender_count = purchase_data[\"Gender\"]\n",
    "gender_count"
   ]
  },
  {
   "cell_type": "code",
   "execution_count": 34,
   "metadata": {},
   "outputs": [
    {
     "data": {
      "text/plain": [
       "Male                     652\n",
       "Female                   113\n",
       "Other / Non-Disclosed     15\n",
       "Name: Gender, dtype: int64"
      ]
     },
     "execution_count": 34,
     "metadata": {},
     "output_type": "execute_result"
    }
   ],
   "source": [
    "gender_count1 = gender_count.value_counts()\n",
    "gender_count1"
   ]
  },
  {
   "cell_type": "code",
   "execution_count": 35,
   "metadata": {},
   "outputs": [
    {
     "data": {
      "text/plain": [
       "Male                     213.701324\n",
       "Female                    37.037193\n",
       "Other / Non-Disclosed      4.916442\n",
       "Name: Gender, dtype: float64"
      ]
     },
     "execution_count": 35,
     "metadata": {},
     "output_type": "execute_result"
    }
   ],
   "source": [
    "gender_count1 / avg_price"
   ]
  },
  {
   "cell_type": "code",
   "execution_count": 38,
   "metadata": {},
   "outputs": [
    {
     "data": {
      "text/plain": [
       "Male                     0.835897\n",
       "Female                   0.144872\n",
       "Other / Non-Disclosed    0.019231\n",
       "Name: Gender, dtype: float64"
      ]
     },
     "execution_count": 38,
     "metadata": {},
     "output_type": "execute_result"
    }
   ],
   "source": [
    "gender_count1 / num_purchase"
   ]
  },
  {
   "cell_type": "code",
   "execution_count": 44,
   "metadata": {},
   "outputs": [
    {
     "data": {
      "text/html": [
       "<div>\n",
       "<style scoped>\n",
       "    .dataframe tbody tr th:only-of-type {\n",
       "        vertical-align: middle;\n",
       "    }\n",
       "\n",
       "    .dataframe tbody tr th {\n",
       "        vertical-align: top;\n",
       "    }\n",
       "\n",
       "    .dataframe thead th {\n",
       "        text-align: right;\n",
       "    }\n",
       "</style>\n",
       "<table border=\"1\" class=\"dataframe\">\n",
       "  <thead>\n",
       "    <tr style=\"text-align: right;\">\n",
       "      <th></th>\n",
       "      <th>Total Count</th>\n",
       "    </tr>\n",
       "  </thead>\n",
       "  <tbody>\n",
       "    <tr>\n",
       "      <th>Male</th>\n",
       "      <td>652</td>\n",
       "    </tr>\n",
       "    <tr>\n",
       "      <th>Female</th>\n",
       "      <td>113</td>\n",
       "    </tr>\n",
       "    <tr>\n",
       "      <th>Other / Non-Disclosed</th>\n",
       "      <td>15</td>\n",
       "    </tr>\n",
       "  </tbody>\n",
       "</table>\n",
       "</div>"
      ],
      "text/plain": [
       "                       Total Count\n",
       "Male                           652\n",
       "Female                         113\n",
       "Other / Non-Disclosed           15"
      ]
     },
     "execution_count": 44,
     "metadata": {},
     "output_type": "execute_result"
    }
   ],
   "source": [
    "gender_count_df = pd.DataFrame(gender_count.value_counts())\n",
    "gender_count_df = gender_count_df.rename(\n",
    "    columns = {\"Gender\": \"Total Count\"})\n",
    "gender_count_df"
   ]
  },
  {
   "cell_type": "code",
   "execution_count": 45,
   "metadata": {},
   "outputs": [
    {
     "data": {
      "text/plain": [
       "Purchase ID    652\n",
       "SN             652\n",
       "Age            652\n",
       "Gender         652\n",
       "Item ID        652\n",
       "Item Name      652\n",
       "Price          652\n",
       "dtype: int64"
      ]
     },
     "execution_count": 45,
     "metadata": {},
     "output_type": "execute_result"
    }
   ],
   "source": [
    "purchase_data.loc[purchase_data[\"Gender\"] == \"Male\"].count()"
   ]
  },
  {
   "cell_type": "code",
   "execution_count": 47,
   "metadata": {},
   "outputs": [
    {
     "data": {
      "text/plain": [
       "Purchase ID    780\n",
       "SN             780\n",
       "Age            780\n",
       "Gender         780\n",
       "Item ID        780\n",
       "Item Name      780\n",
       "Price          780\n",
       "dtype: int64"
      ]
     },
     "execution_count": 47,
     "metadata": {},
     "output_type": "execute_result"
    }
   ],
   "source": [
    "total_count = purchase_data.count()\n",
    "total_count"
   ]
  },
  {
   "cell_type": "code",
   "execution_count": 51,
   "metadata": {},
   "outputs": [
    {
     "data": {
      "text/plain": [
       "Male                     0.835897\n",
       "Female                   0.144872\n",
       "Other / Non-Disclosed    0.019231\n",
       "Name: Gender, dtype: float64"
      ]
     },
     "execution_count": 51,
     "metadata": {},
     "output_type": "execute_result"
    }
   ],
   "source": [
    "percent_gender = gender_count.value_counts() / gender_count.count()\n",
    "percent_gender"
   ]
  },
  {
   "cell_type": "code",
   "execution_count": 53,
   "metadata": {},
   "outputs": [
    {
     "data": {
      "text/plain": [
       "Male                     83.59%\n",
       "Female                   14.49%\n",
       "Other / Non-Disclosed     1.92%\n",
       "Name: Gender, dtype: object"
      ]
     },
     "execution_count": 53,
     "metadata": {},
     "output_type": "execute_result"
    }
   ],
   "source": [
    "percent_gender = gender_count.value_counts() / gender_count.count()\n",
    "percent_gender = percent_gender.map(\"{:,.2%}\".format)\n",
    "percent_gender"
   ]
  },
  {
   "cell_type": "code",
   "execution_count": 54,
   "metadata": {},
   "outputs": [
    {
     "data": {
      "text/html": [
       "<div>\n",
       "<style scoped>\n",
       "    .dataframe tbody tr th:only-of-type {\n",
       "        vertical-align: middle;\n",
       "    }\n",
       "\n",
       "    .dataframe tbody tr th {\n",
       "        vertical-align: top;\n",
       "    }\n",
       "\n",
       "    .dataframe thead th {\n",
       "        text-align: right;\n",
       "    }\n",
       "</style>\n",
       "<table border=\"1\" class=\"dataframe\">\n",
       "  <thead>\n",
       "    <tr style=\"text-align: right;\">\n",
       "      <th></th>\n",
       "      <th>Gender</th>\n",
       "    </tr>\n",
       "  </thead>\n",
       "  <tbody>\n",
       "    <tr>\n",
       "      <th>Male</th>\n",
       "      <td>83.59%</td>\n",
       "    </tr>\n",
       "    <tr>\n",
       "      <th>Female</th>\n",
       "      <td>14.49%</td>\n",
       "    </tr>\n",
       "    <tr>\n",
       "      <th>Other / Non-Disclosed</th>\n",
       "      <td>1.92%</td>\n",
       "    </tr>\n",
       "  </tbody>\n",
       "</table>\n",
       "</div>"
      ],
      "text/plain": [
       "                       Gender\n",
       "Male                   83.59%\n",
       "Female                 14.49%\n",
       "Other / Non-Disclosed   1.92%"
      ]
     },
     "execution_count": 54,
     "metadata": {},
     "output_type": "execute_result"
    }
   ],
   "source": [
    "percent_gender_df = pd.DataFrame(percent_gender)\n",
    "percent_gender_df.head()"
   ]
  },
  {
   "cell_type": "code",
   "execution_count": 55,
   "metadata": {},
   "outputs": [
    {
     "data": {
      "text/html": [
       "<div>\n",
       "<style scoped>\n",
       "    .dataframe tbody tr th:only-of-type {\n",
       "        vertical-align: middle;\n",
       "    }\n",
       "\n",
       "    .dataframe tbody tr th {\n",
       "        vertical-align: top;\n",
       "    }\n",
       "\n",
       "    .dataframe thead th {\n",
       "        text-align: right;\n",
       "    }\n",
       "</style>\n",
       "<table border=\"1\" class=\"dataframe\">\n",
       "  <thead>\n",
       "    <tr style=\"text-align: right;\">\n",
       "      <th></th>\n",
       "      <th>index</th>\n",
       "      <th>percentage of players</th>\n",
       "    </tr>\n",
       "  </thead>\n",
       "  <tbody>\n",
       "    <tr>\n",
       "      <th>0</th>\n",
       "      <td>Male</td>\n",
       "      <td>83.59%</td>\n",
       "    </tr>\n",
       "    <tr>\n",
       "      <th>1</th>\n",
       "      <td>Female</td>\n",
       "      <td>14.49%</td>\n",
       "    </tr>\n",
       "    <tr>\n",
       "      <th>2</th>\n",
       "      <td>Other / Non-Disclosed</td>\n",
       "      <td>1.92%</td>\n",
       "    </tr>\n",
       "  </tbody>\n",
       "</table>\n",
       "</div>"
      ],
      "text/plain": [
       "                   index percentage of players\n",
       "0                   Male                83.59%\n",
       "1                 Female                14.49%\n",
       "2  Other / Non-Disclosed                 1.92%"
      ]
     },
     "execution_count": 55,
     "metadata": {},
     "output_type": "execute_result"
    }
   ],
   "source": [
    "percent_gender_df = percent_gender_df.rename(\n",
    "    columns = {\"Gender\": \"percentage of players\"})\n",
    "percent_gender_df\n",
    "percent_gender_df.reset_index().head()"
   ]
  },
  {
   "cell_type": "code",
   "execution_count": 57,
   "metadata": {},
   "outputs": [
    {
     "data": {
      "text/html": [
       "<div>\n",
       "<style scoped>\n",
       "    .dataframe tbody tr th:only-of-type {\n",
       "        vertical-align: middle;\n",
       "    }\n",
       "\n",
       "    .dataframe tbody tr th {\n",
       "        vertical-align: top;\n",
       "    }\n",
       "\n",
       "    .dataframe thead th {\n",
       "        text-align: right;\n",
       "    }\n",
       "</style>\n",
       "<table border=\"1\" class=\"dataframe\">\n",
       "  <thead>\n",
       "    <tr style=\"text-align: right;\">\n",
       "      <th></th>\n",
       "      <th>index</th>\n",
       "      <th>Total Count</th>\n",
       "    </tr>\n",
       "  </thead>\n",
       "  <tbody>\n",
       "    <tr>\n",
       "      <th>0</th>\n",
       "      <td>Male</td>\n",
       "      <td>652</td>\n",
       "    </tr>\n",
       "    <tr>\n",
       "      <th>1</th>\n",
       "      <td>Female</td>\n",
       "      <td>113</td>\n",
       "    </tr>\n",
       "    <tr>\n",
       "      <th>2</th>\n",
       "      <td>Other / Non-Disclosed</td>\n",
       "      <td>15</td>\n",
       "    </tr>\n",
       "  </tbody>\n",
       "</table>\n",
       "</div>"
      ],
      "text/plain": [
       "                   index  Total Count\n",
       "0                   Male          652\n",
       "1                 Female          113\n",
       "2  Other / Non-Disclosed           15"
      ]
     },
     "execution_count": 57,
     "metadata": {},
     "output_type": "execute_result"
    }
   ],
   "source": [
    "gender_count_df.reset_index().head()"
   ]
  },
  {
   "cell_type": "code",
   "execution_count": 58,
   "metadata": {},
   "outputs": [
    {
     "data": {
      "text/plain": [
       "Index(['Total Count'], dtype='object')"
      ]
     },
     "execution_count": 58,
     "metadata": {},
     "output_type": "execute_result"
    }
   ],
   "source": [
    "gender_count_df.columns"
   ]
  },
  {
   "cell_type": "code",
   "execution_count": 59,
   "metadata": {},
   "outputs": [
    {
     "data": {
      "text/html": [
       "<div>\n",
       "<style scoped>\n",
       "    .dataframe tbody tr th:only-of-type {\n",
       "        vertical-align: middle;\n",
       "    }\n",
       "\n",
       "    .dataframe tbody tr th {\n",
       "        vertical-align: top;\n",
       "    }\n",
       "\n",
       "    .dataframe thead th {\n",
       "        text-align: right;\n",
       "    }\n",
       "</style>\n",
       "<table border=\"1\" class=\"dataframe\">\n",
       "  <thead>\n",
       "    <tr style=\"text-align: right;\">\n",
       "      <th></th>\n",
       "      <th>percentage of players</th>\n",
       "      <th>Total Count</th>\n",
       "    </tr>\n",
       "  </thead>\n",
       "  <tbody>\n",
       "    <tr>\n",
       "      <th>Male</th>\n",
       "      <td>83.59%</td>\n",
       "      <td>652</td>\n",
       "    </tr>\n",
       "    <tr>\n",
       "      <th>Female</th>\n",
       "      <td>14.49%</td>\n",
       "      <td>113</td>\n",
       "    </tr>\n",
       "    <tr>\n",
       "      <th>Other / Non-Disclosed</th>\n",
       "      <td>1.92%</td>\n",
       "      <td>15</td>\n",
       "    </tr>\n",
       "  </tbody>\n",
       "</table>\n",
       "</div>"
      ],
      "text/plain": [
       "                      percentage of players  Total Count\n",
       "Male                                 83.59%          652\n",
       "Female                               14.49%          113\n",
       "Other / Non-Disclosed                 1.92%           15"
      ]
     },
     "execution_count": 59,
     "metadata": {},
     "output_type": "execute_result"
    }
   ],
   "source": [
    "gender_demographics_df = pd.DataFrame({\n",
    "    \"percentage of players\": percent_gender,\n",
    "    \"Total Count\": gender_count1,\n",
    "})\n",
    "gender_demographics_df.reset_index()\n",
    "gender_demographics_df.head()"
   ]
  },
  {
   "cell_type": "markdown",
   "metadata": {},
   "source": [
    "#be sure to review everything above before you proceed to the cells below."
   ]
  },
  {
   "cell_type": "code",
   "execution_count": 65,
   "metadata": {},
   "outputs": [
    {
     "data": {
      "text/plain": [
       "0      20-24\n",
       "1        40+\n",
       "2      20-24\n",
       "3      20-24\n",
       "4      20-24\n",
       "5      20-24\n",
       "6      35-39\n",
       "7      20-24\n",
       "8      20-24\n",
       "9      35-39\n",
       "10     20-24\n",
       "11     20-24\n",
       "12     20-24\n",
       "13     20-24\n",
       "14     35-39\n",
       "15     20-24\n",
       "16     20-24\n",
       "17     20-24\n",
       "18     20-24\n",
       "19     30-34\n",
       "20     20-24\n",
       "21     20-24\n",
       "22     35-39\n",
       "23       40+\n",
       "24     30-34\n",
       "25     25-29\n",
       "26     10-14\n",
       "27       <19\n",
       "28     20-24\n",
       "29     20-24\n",
       "       ...  \n",
       "750    20-24\n",
       "751    10-14\n",
       "752    15-19\n",
       "753    35-39\n",
       "754    20-24\n",
       "755    10-14\n",
       "756    20-24\n",
       "757    15-19\n",
       "758    20-24\n",
       "759    25-29\n",
       "760    20-24\n",
       "761      40+\n",
       "762    25-29\n",
       "763    20-24\n",
       "764    15-19\n",
       "765    15-19\n",
       "766    20-24\n",
       "767      <19\n",
       "768    35-39\n",
       "769    15-19\n",
       "770    30-34\n",
       "771    15-19\n",
       "772    25-29\n",
       "773    20-24\n",
       "774    10-14\n",
       "775    20-24\n",
       "776    20-24\n",
       "777    20-24\n",
       "778      <19\n",
       "779    20-24\n",
       "Name: Age, Length: 780, dtype: category\n",
       "Categories (8, object): [<19 < 10-14 < 15-19 < 20-24 < 25-29 < 30-34 < 35-39 < 40+]"
      ]
     },
     "execution_count": 65,
     "metadata": {},
     "output_type": "execute_result"
    }
   ],
   "source": [
    "#create bins and bin labels\n",
    "#establish bins for ages \n",
    "age_bins = [0, 9.90, 14.90, 19.90, 24.90, 29.90, 34.90, 39.90, 99999]\n",
    "group_names = [\"<19\", \"10-14\", \"15-19\", \"20-24\", \"25-29\", \"30-34\", \"35-39\", \"40+\"]\n",
    "age_bin = pd.cut(purchase_data [\"Age\"], age_bins, labels=group_names)\n",
    "age_bin"
   ]
  },
  {
   "cell_type": "code",
   "execution_count": 79,
   "metadata": {},
   "outputs": [
    {
     "data": {
      "text/plain": [
       "20-24    365\n",
       "15-19    136\n",
       "25-29    101\n",
       "30-34     73\n",
       "35-39     41\n",
       "10-14     28\n",
       "<19       23\n",
       "40+       13\n",
       "Name: Age, dtype: int64"
      ]
     },
     "execution_count": 79,
     "metadata": {},
     "output_type": "execute_result"
    }
   ],
   "source": [
    "#reload the ptchase data at the top to not get an error\n",
    "purchase_data[\"Age\"] = pd.cut(purchase_data [\"Age\"], age_bins, labels=group_names)\n",
    "purchase_data\n",
    "\n",
    "purchase_data[\"Age\"].value_counts()"
   ]
  },
  {
   "cell_type": "code",
   "execution_count": 81,
   "metadata": {},
   "outputs": [
    {
     "data": {
      "text/plain": [
       "20-24    365\n",
       "15-19    136\n",
       "25-29    101\n",
       "30-34     73\n",
       "35-39     41\n",
       "10-14     28\n",
       "<19       23\n",
       "40+       13\n",
       "Name: Age, dtype: int64"
      ]
     },
     "execution_count": 81,
     "metadata": {},
     "output_type": "execute_result"
    }
   ],
   "source": [
    "bins_total_count = purchase_data[\"Age\"].value_counts()\n",
    "bins_total_count"
   ]
  },
  {
   "cell_type": "code",
   "execution_count": 85,
   "metadata": {},
   "outputs": [
    {
     "data": {
      "text/plain": [
       "20-24    63.37%\n",
       "15-19    23.61%\n",
       "25-29    17.53%\n",
       "30-34    12.67%\n",
       "35-39     7.12%\n",
       "10-14     4.86%\n",
       "<19       3.99%\n",
       "40+       2.26%\n",
       "Name: Age, dtype: object"
      ]
     },
     "execution_count": 85,
     "metadata": {},
     "output_type": "execute_result"
    }
   ],
   "source": [
    "bins_percent = bins_total_count / total_players\n",
    "bins_percent = bins_percent.map(\"{:,.2%}\".format)\n",
    "bins_percent"
   ]
  },
  {
   "cell_type": "code",
   "execution_count": 87,
   "metadata": {},
   "outputs": [
    {
     "data": {
      "text/html": [
       "<div>\n",
       "<style scoped>\n",
       "    .dataframe tbody tr th:only-of-type {\n",
       "        vertical-align: middle;\n",
       "    }\n",
       "\n",
       "    .dataframe tbody tr th {\n",
       "        vertical-align: top;\n",
       "    }\n",
       "\n",
       "    .dataframe thead th {\n",
       "        text-align: right;\n",
       "    }\n",
       "</style>\n",
       "<table border=\"1\" class=\"dataframe\">\n",
       "  <thead>\n",
       "    <tr style=\"text-align: right;\">\n",
       "      <th></th>\n",
       "      <th>Percentage of Players</th>\n",
       "      <th>Total Count</th>\n",
       "    </tr>\n",
       "  </thead>\n",
       "  <tbody>\n",
       "    <tr>\n",
       "      <th>20-24</th>\n",
       "      <td>63.37%</td>\n",
       "      <td>365</td>\n",
       "    </tr>\n",
       "    <tr>\n",
       "      <th>15-19</th>\n",
       "      <td>23.61%</td>\n",
       "      <td>136</td>\n",
       "    </tr>\n",
       "    <tr>\n",
       "      <th>25-29</th>\n",
       "      <td>17.53%</td>\n",
       "      <td>101</td>\n",
       "    </tr>\n",
       "    <tr>\n",
       "      <th>30-34</th>\n",
       "      <td>12.67%</td>\n",
       "      <td>73</td>\n",
       "    </tr>\n",
       "    <tr>\n",
       "      <th>35-39</th>\n",
       "      <td>7.12%</td>\n",
       "      <td>41</td>\n",
       "    </tr>\n",
       "    <tr>\n",
       "      <th>10-14</th>\n",
       "      <td>4.86%</td>\n",
       "      <td>28</td>\n",
       "    </tr>\n",
       "    <tr>\n",
       "      <th>&lt;19</th>\n",
       "      <td>3.99%</td>\n",
       "      <td>23</td>\n",
       "    </tr>\n",
       "    <tr>\n",
       "      <th>40+</th>\n",
       "      <td>2.26%</td>\n",
       "      <td>13</td>\n",
       "    </tr>\n",
       "  </tbody>\n",
       "</table>\n",
       "</div>"
      ],
      "text/plain": [
       "      Percentage of Players  Total Count\n",
       "20-24                63.37%          365\n",
       "15-19                23.61%          136\n",
       "25-29                17.53%          101\n",
       "30-34                12.67%           73\n",
       "35-39                 7.12%           41\n",
       "10-14                 4.86%           28\n",
       "<19                   3.99%           23\n",
       "40+                   2.26%           13"
      ]
     },
     "execution_count": 87,
     "metadata": {},
     "output_type": "execute_result"
    }
   ],
   "source": [
    "age_bins_df = pd.DataFrame({\n",
    "    \"Percentage of Players\": bins_percent,\n",
    "    \"Total Count\": bins_total_count,\n",
    "})\n",
    "age_bins_df"
   ]
  },
  {
   "cell_type": "markdown",
   "metadata": {},
   "source": [
    "#purchasing analysis Age"
   ]
  },
  {
   "cell_type": "code",
   "execution_count": 92,
   "metadata": {},
   "outputs": [
    {
     "data": {
      "text/html": [
       "<div>\n",
       "<style scoped>\n",
       "    .dataframe tbody tr th:only-of-type {\n",
       "        vertical-align: middle;\n",
       "    }\n",
       "\n",
       "    .dataframe tbody tr th {\n",
       "        vertical-align: top;\n",
       "    }\n",
       "\n",
       "    .dataframe thead th {\n",
       "        text-align: right;\n",
       "    }\n",
       "</style>\n",
       "<table border=\"1\" class=\"dataframe\">\n",
       "  <thead>\n",
       "    <tr style=\"text-align: right;\">\n",
       "      <th></th>\n",
       "      <th>Purchase ID</th>\n",
       "      <th>SN</th>\n",
       "      <th>Age</th>\n",
       "      <th>Gender</th>\n",
       "      <th>Item ID</th>\n",
       "      <th>Item Name</th>\n",
       "      <th>Price</th>\n",
       "    </tr>\n",
       "  </thead>\n",
       "  <tbody>\n",
       "    <tr>\n",
       "      <th>0</th>\n",
       "      <td>0</td>\n",
       "      <td>Lisim78</td>\n",
       "      <td>20-24</td>\n",
       "      <td>Male</td>\n",
       "      <td>108</td>\n",
       "      <td>Extraction, Quickblade Of Trembling Hands</td>\n",
       "      <td>3.53</td>\n",
       "    </tr>\n",
       "    <tr>\n",
       "      <th>1</th>\n",
       "      <td>1</td>\n",
       "      <td>Lisovynya38</td>\n",
       "      <td>40+</td>\n",
       "      <td>Male</td>\n",
       "      <td>143</td>\n",
       "      <td>Frenzied Scimitar</td>\n",
       "      <td>1.56</td>\n",
       "    </tr>\n",
       "    <tr>\n",
       "      <th>2</th>\n",
       "      <td>2</td>\n",
       "      <td>Ithergue48</td>\n",
       "      <td>20-24</td>\n",
       "      <td>Male</td>\n",
       "      <td>92</td>\n",
       "      <td>Final Critic</td>\n",
       "      <td>4.88</td>\n",
       "    </tr>\n",
       "    <tr>\n",
       "      <th>3</th>\n",
       "      <td>3</td>\n",
       "      <td>Chamassasya86</td>\n",
       "      <td>20-24</td>\n",
       "      <td>Male</td>\n",
       "      <td>100</td>\n",
       "      <td>Blindscythe</td>\n",
       "      <td>3.27</td>\n",
       "    </tr>\n",
       "    <tr>\n",
       "      <th>4</th>\n",
       "      <td>4</td>\n",
       "      <td>Iskosia90</td>\n",
       "      <td>20-24</td>\n",
       "      <td>Male</td>\n",
       "      <td>131</td>\n",
       "      <td>Fury</td>\n",
       "      <td>1.44</td>\n",
       "    </tr>\n",
       "  </tbody>\n",
       "</table>\n",
       "</div>"
      ],
      "text/plain": [
       "   Purchase ID             SN    Age Gender  Item ID  \\\n",
       "0            0        Lisim78  20-24   Male      108   \n",
       "1            1    Lisovynya38    40+   Male      143   \n",
       "2            2     Ithergue48  20-24   Male       92   \n",
       "3            3  Chamassasya86  20-24   Male      100   \n",
       "4            4      Iskosia90  20-24   Male      131   \n",
       "\n",
       "                                   Item Name  Price  \n",
       "0  Extraction, Quickblade Of Trembling Hands   3.53  \n",
       "1                          Frenzied Scimitar   1.56  \n",
       "2                               Final Critic   4.88  \n",
       "3                                Blindscythe   3.27  \n",
       "4                                       Fury   1.44  "
      ]
     },
     "execution_count": 92,
     "metadata": {},
     "output_type": "execute_result"
    }
   ],
   "source": [
    "purchase_data1 = purchase_data\n",
    "purchase_data1.head()"
   ]
  },
  {
   "cell_type": "code",
   "execution_count": 94,
   "metadata": {},
   "outputs": [
    {
     "data": {
      "text/plain": [
       "Age\n",
       "<19      3.353478\n",
       "10-14    2.956429\n",
       "15-19    3.035956\n",
       "20-24    3.052219\n",
       "25-29    2.900990\n",
       "30-34    2.931507\n",
       "35-39    3.601707\n",
       "40+      2.941538\n",
       "Name: Price, dtype: float64"
      ]
     },
     "execution_count": 94,
     "metadata": {},
     "output_type": "execute_result"
    }
   ],
   "source": [
    "grouped_avg_purchase = purchase_data1.groupby([\"Age\"])\n",
    "grouped_avg_purchase1 = grouped_avg_purchase[\"Price\"].mean()\n",
    "grouped_avg_purchase1"
   ]
  },
  {
   "cell_type": "code",
   "execution_count": 115,
   "metadata": {},
   "outputs": [
    {
     "data": {
      "text/plain": [
       "20-24    365\n",
       "15-19    136\n",
       "25-29    101\n",
       "30-34     73\n",
       "35-39     41\n",
       "10-14     28\n",
       "<19       23\n",
       "40+       13\n",
       "Name: Age, dtype: int64"
      ]
     },
     "execution_count": 115,
     "metadata": {},
     "output_type": "execute_result"
    }
   ],
   "source": [
    "bins_total_count = purchase_data[\"Age\"].value_counts()\n",
    "bins_total_count"
   ]
  },
  {
   "cell_type": "code",
   "execution_count": 116,
   "metadata": {},
   "outputs": [
    {
     "data": {
      "text/plain": [
       "20-24    0.633681\n",
       "15-19    0.236111\n",
       "25-29    0.175347\n",
       "30-34    0.126736\n",
       "35-39    0.071181\n",
       "10-14    0.048611\n",
       "<19      0.039931\n",
       "40+      0.022569\n",
       "Name: Age, dtype: float64"
      ]
     },
     "execution_count": 116,
     "metadata": {},
     "output_type": "execute_result"
    }
   ],
   "source": [
    "bins_percent = bins_total_count / total_players\n",
    "bins_percent"
   ]
  },
  {
   "cell_type": "code",
   "execution_count": 124,
   "metadata": {},
   "outputs": [
    {
     "data": {
      "text/html": [
       "<div>\n",
       "<style scoped>\n",
       "    .dataframe tbody tr th:only-of-type {\n",
       "        vertical-align: middle;\n",
       "    }\n",
       "\n",
       "    .dataframe tbody tr th {\n",
       "        vertical-align: top;\n",
       "    }\n",
       "\n",
       "    .dataframe thead th {\n",
       "        text-align: right;\n",
       "    }\n",
       "</style>\n",
       "<table border=\"1\" class=\"dataframe\">\n",
       "  <thead>\n",
       "    <tr style=\"text-align: right;\">\n",
       "      <th></th>\n",
       "      <th>Percentage of Players</th>\n",
       "      <th>Total Count</th>\n",
       "    </tr>\n",
       "  </thead>\n",
       "  <tbody>\n",
       "    <tr>\n",
       "      <th>20-24</th>\n",
       "      <td>63.37%</td>\n",
       "      <td>365</td>\n",
       "    </tr>\n",
       "    <tr>\n",
       "      <th>15-19</th>\n",
       "      <td>23.61%</td>\n",
       "      <td>136</td>\n",
       "    </tr>\n",
       "    <tr>\n",
       "      <th>25-29</th>\n",
       "      <td>17.53%</td>\n",
       "      <td>101</td>\n",
       "    </tr>\n",
       "    <tr>\n",
       "      <th>30-34</th>\n",
       "      <td>12.67%</td>\n",
       "      <td>73</td>\n",
       "    </tr>\n",
       "    <tr>\n",
       "      <th>35-39</th>\n",
       "      <td>7.12%</td>\n",
       "      <td>41</td>\n",
       "    </tr>\n",
       "    <tr>\n",
       "      <th>10-14</th>\n",
       "      <td>4.86%</td>\n",
       "      <td>28</td>\n",
       "    </tr>\n",
       "    <tr>\n",
       "      <th>&lt;19</th>\n",
       "      <td>3.99%</td>\n",
       "      <td>23</td>\n",
       "    </tr>\n",
       "    <tr>\n",
       "      <th>40+</th>\n",
       "      <td>2.26%</td>\n",
       "      <td>13</td>\n",
       "    </tr>\n",
       "  </tbody>\n",
       "</table>\n",
       "</div>"
      ],
      "text/plain": [
       "      Percentage of Players  Total Count\n",
       "20-24                63.37%          365\n",
       "15-19                23.61%          136\n",
       "25-29                17.53%          101\n",
       "30-34                12.67%           73\n",
       "35-39                 7.12%           41\n",
       "10-14                 4.86%           28\n",
       "<19                   3.99%           23\n",
       "40+                   2.26%           13"
      ]
     },
     "execution_count": 124,
     "metadata": {},
     "output_type": "execute_result"
    }
   ],
   "source": [
    "age_bins_df = pd.DataFrame({\n",
    "    \"Percentage of Players\": bins_percent,\n",
    "    \"Total Count\": bins_total_count,\n",
    "})\n",
    "age_bins_df[\"Percentage of Players\"] = age_bins_df[\"Percentage of Players\"].map(\"{:,.2%}\".format)\n",
    "age_bins_df"
   ]
  },
  {
   "cell_type": "code",
   "execution_count": null,
   "metadata": {},
   "outputs": [],
   "source": []
  },
  {
   "cell_type": "code",
   "execution_count": 128,
   "metadata": {},
   "outputs": [
    {
     "data": {
      "text/plain": [
       "SN\n",
       "Adairialis76       2.28\n",
       "Adastirin33        4.48\n",
       "Aeda94             4.91\n",
       "Aela59             4.32\n",
       "Aelaria33          1.79\n",
       "Aelastirin39       7.29\n",
       "Aelidru27          1.09\n",
       "Aelin32            8.98\n",
       "Aelly27            6.79\n",
       "Aellynun67         3.74\n",
       "Aellyria80         3.08\n",
       "Aelollo59          5.63\n",
       "Aenarap34          2.96\n",
       "Aeral43            4.40\n",
       "Aeral68            4.00\n",
       "Aeral97            4.80\n",
       "Aeralria27         4.09\n",
       "Aeralstical35      2.96\n",
       "Aeri84             1.61\n",
       "Aerillorin70       3.33\n",
       "Aerithllora36      8.64\n",
       "Aerithnucal56      4.40\n",
       "Aerithnuphos61     4.91\n",
       "Aerithriaphos45    1.56\n",
       "Aerithriaphos46    2.18\n",
       "Aesri53            1.76\n",
       "Aesty53            3.91\n",
       "Aestysu37          5.38\n",
       "Aesur96            2.21\n",
       "Aesurstilis64      1.03\n",
       "                   ... \n",
       "Undosia27          3.77\n",
       "Undosian34         8.30\n",
       "Undotesta33        4.74\n",
       "Wailin72           2.73\n",
       "Yadacal26          6.54\n",
       "Yadaisuir65        4.09\n",
       "Yadam35            2.48\n",
       "Yadanu52           2.38\n",
       "Yadaphos40         5.35\n",
       "Yalae81            6.69\n",
       "Yalaeria91         1.06\n",
       "Yaliru88           3.03\n",
       "Yalo85             3.65\n",
       "Yalostiphos68      4.40\n",
       "Yana46             3.55\n",
       "Yarithllodeu72     3.75\n",
       "Yarithrgue83       3.45\n",
       "Yarithrin84        4.14\n",
       "Yarithsurgue62     4.94\n",
       "Yarolwen77         4.43\n",
       "Yasrisu92          3.44\n",
       "Yastyriaphos75     4.75\n",
       "Yasur35            4.48\n",
       "Yasur85            1.10\n",
       "Yathecal72         3.46\n",
       "Yathecal82         6.22\n",
       "Yathedeu43         6.02\n",
       "Yoishirrala98      4.58\n",
       "Zhisrisu83         7.89\n",
       "Zontibe81          8.03\n",
       "Name: Price, Length: 576, dtype: float64"
      ]
     },
     "execution_count": 128,
     "metadata": {},
     "output_type": "execute_result"
    }
   ],
   "source": [
    "#Top spenders\n",
    "grouped_purchase_by_name = purchase_data.groupby([\"SN\"])\n",
    "grouped_purchase_by_name_sum = grouped_purchase_by_name[\"Price\"].sum()\n",
    "grouped_purchase_by_name_sum"
   ]
  },
  {
   "cell_type": "code",
   "execution_count": 135,
   "metadata": {},
   "outputs": [
    {
     "data": {
      "text/html": [
       "<div>\n",
       "<style scoped>\n",
       "    .dataframe tbody tr th:only-of-type {\n",
       "        vertical-align: middle;\n",
       "    }\n",
       "\n",
       "    .dataframe tbody tr th {\n",
       "        vertical-align: top;\n",
       "    }\n",
       "\n",
       "    .dataframe thead th {\n",
       "        text-align: right;\n",
       "    }\n",
       "</style>\n",
       "<table border=\"1\" class=\"dataframe\">\n",
       "  <thead>\n",
       "    <tr style=\"text-align: right;\">\n",
       "      <th></th>\n",
       "      <th>Grouped Prices</th>\n",
       "    </tr>\n",
       "    <tr>\n",
       "      <th>SN</th>\n",
       "      <th></th>\n",
       "    </tr>\n",
       "  </thead>\n",
       "  <tbody>\n",
       "    <tr>\n",
       "      <th>Lisosia93</th>\n",
       "      <td>18.96</td>\n",
       "    </tr>\n",
       "    <tr>\n",
       "      <th>Idastidru52</th>\n",
       "      <td>15.45</td>\n",
       "    </tr>\n",
       "    <tr>\n",
       "      <th>Chamjask73</th>\n",
       "      <td>13.83</td>\n",
       "    </tr>\n",
       "    <tr>\n",
       "      <th>Iral74</th>\n",
       "      <td>13.62</td>\n",
       "    </tr>\n",
       "    <tr>\n",
       "      <th>Iskadarya95</th>\n",
       "      <td>13.10</td>\n",
       "    </tr>\n",
       "  </tbody>\n",
       "</table>\n",
       "</div>"
      ],
      "text/plain": [
       "             Grouped Prices\n",
       "SN                         \n",
       "Lisosia93             18.96\n",
       "Idastidru52           15.45\n",
       "Chamjask73            13.83\n",
       "Iral74                13.62\n",
       "Iskadarya95           13.10"
      ]
     },
     "execution_count": 135,
     "metadata": {},
     "output_type": "execute_result"
    }
   ],
   "source": [
    "grouped_purchase_by_name_sum_df = pd.DataFrame({\n",
    "    \"Grouped Prices\": grouped_purchase_by_name_sum\n",
    "})\n",
    "sorted_grouped_purchase_by_name_sum = grouped_purchase_by_name_sum_df.sort_values(by = \"Grouped Prices\", ascending=False)\n",
    "sorted_grouped_purchase_by_name_sum.head()"
   ]
  },
  {
   "cell_type": "code",
   "execution_count": null,
   "metadata": {},
   "outputs": [],
   "source": [
    "#convert the df to a series\n",
    "sorted_grouped_purchase_by_name_sum\n"
   ]
  },
  {
   "cell_type": "code",
   "execution_count": 137,
   "metadata": {},
   "outputs": [
    {
     "data": {
      "text/plain": [
       "Lisosia93         5\n",
       "Iral74            4\n",
       "Idastidru52       4\n",
       "Siallylis44       3\n",
       "Inguron55         3\n",
       "Chamimla85        3\n",
       "Iskadarya95       3\n",
       "Chadolyla44       3\n",
       "Idai61            3\n",
       "Chamjask73        3\n",
       "Aina42            3\n",
       "Tyidaim51         3\n",
       "Ilarin91          3\n",
       "Chanastnya43      3\n",
       "Saedaiphos46      3\n",
       "Rarallo90         3\n",
       "Hada39            3\n",
       "Tyisur83          3\n",
       "Aelin32           3\n",
       "Strithenu87       3\n",
       "Raesty92          3\n",
       "Yathecal82        3\n",
       "Silaera56         3\n",
       "Phyali88          3\n",
       "Ialallo29         3\n",
       "Umolrian85        3\n",
       "Lisopela58        3\n",
       "Haillyrgue51      3\n",
       "Iri67             3\n",
       "Zontibe81         3\n",
       "                 ..\n",
       "Aelidru27         1\n",
       "Iadueria43        1\n",
       "Tyeoralru41       1\n",
       "Frichossala54     1\n",
       "Phiristi62        1\n",
       "Tyaelly53         1\n",
       "Tyaelistidru84    1\n",
       "Eosrirgue62       1\n",
       "Irillo49          1\n",
       "Aisur51           1\n",
       "Maradarnya40      1\n",
       "Isursti83         1\n",
       "Ili43             1\n",
       "Sisur91           1\n",
       "Firatan58         1\n",
       "Chadjask85        1\n",
       "Jiskjask80        1\n",
       "Lirtilsa71        1\n",
       "Iskim96           1\n",
       "Palyon91          1\n",
       "Marirrasta50      1\n",
       "Layjask75         1\n",
       "Aeralria27        1\n",
       "Undotesta33       1\n",
       "Lisico81          1\n",
       "Sondassasya91     1\n",
       "Ina92             1\n",
       "Idaisuir85        1\n",
       "Aethedru70        1\n",
       "Aidai73           1\n",
       "Name: SN, Length: 576, dtype: int64"
      ]
     },
     "execution_count": 137,
     "metadata": {},
     "output_type": "execute_result"
    }
   ],
   "source": [
    "#get the name count\n",
    "name_count = purchase_data[\"SN\"].value_counts()\n",
    "name_count"
   ]
  },
  {
   "cell_type": "code",
   "execution_count": 139,
   "metadata": {},
   "outputs": [
    {
     "data": {
      "text/plain": [
       "<bound method Series.sum of 0      3.53\n",
       "1      1.56\n",
       "2      4.88\n",
       "3      3.27\n",
       "4      1.44\n",
       "5      3.61\n",
       "6      2.18\n",
       "7      2.67\n",
       "8      1.10\n",
       "9      3.58\n",
       "10     4.74\n",
       "11     2.67\n",
       "12     4.18\n",
       "13     1.70\n",
       "14     4.86\n",
       "15     2.89\n",
       "16     2.52\n",
       "17     1.76\n",
       "18     4.90\n",
       "19     4.64\n",
       "20     4.60\n",
       "21     1.48\n",
       "22     3.81\n",
       "23     3.40\n",
       "24     3.19\n",
       "25     4.23\n",
       "26     1.61\n",
       "27     3.09\n",
       "28     4.32\n",
       "29     3.16\n",
       "       ... \n",
       "750    3.61\n",
       "751    3.36\n",
       "752    2.60\n",
       "753    4.23\n",
       "754    4.05\n",
       "755    3.15\n",
       "756    2.05\n",
       "757    4.60\n",
       "758    4.03\n",
       "759    3.77\n",
       "760    2.38\n",
       "761    1.70\n",
       "762    1.44\n",
       "763    1.75\n",
       "764    4.07\n",
       "765    2.07\n",
       "766    4.14\n",
       "767    4.88\n",
       "768    4.88\n",
       "769    4.58\n",
       "770    1.02\n",
       "771    4.35\n",
       "772    3.58\n",
       "773    1.02\n",
       "774    4.19\n",
       "775    3.54\n",
       "776    1.63\n",
       "777    3.46\n",
       "778    4.19\n",
       "779    4.60\n",
       "Name: Price, Length: 780, dtype: float64>"
      ]
     },
     "execution_count": 139,
     "metadata": {},
     "output_type": "execute_result"
    }
   ],
   "source": [
    "total_value = purchase_data[\"Price\"].sum\n",
    "total_value"
   ]
  },
  {
   "cell_type": "code",
   "execution_count": 140,
   "metadata": {},
   "outputs": [
    {
     "data": {
      "text/plain": [
       "3.050987179487176"
      ]
     },
     "execution_count": 140,
     "metadata": {},
     "output_type": "execute_result"
    }
   ],
   "source": [
    "total_avg = purchase_data[\"Price\"].mean()\n",
    "total_avg "
   ]
  },
  {
   "cell_type": "code",
   "execution_count": null,
   "metadata": {},
   "outputs": [],
   "source": []
  }
 ],
 "metadata": {
  "kernelspec": {
   "display_name": "Python [conda env:PythonData]",
   "language": "python",
   "name": "conda-env-PythonData-py"
  },
  "language_info": {
   "codemirror_mode": {
    "name": "ipython",
    "version": 3
   },
   "file_extension": ".py",
   "mimetype": "text/x-python",
   "name": "python",
   "nbconvert_exporter": "python",
   "pygments_lexer": "ipython3",
   "version": "3.6.5"
  }
 },
 "nbformat": 4,
 "nbformat_minor": 2
}
